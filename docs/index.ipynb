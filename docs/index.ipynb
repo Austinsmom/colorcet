{
 "cells": [
  {
   "cell_type": "markdown",
   "metadata": {},
   "source": [
    "# [`colorcet`](https://github.com/bokeh/colorcet): Perceptually uniform colormaps from CET\n",
    "\n",
    "Peter Kovesi at the Center for Exploration Targeting created a very useful set of [perceptually uniform colormaps](https://arxiv.org/abs/1509.03700), many of which can replace the highly non-uniform colormaps provided with Python plotting programs.  Here we will show how to use them via the new [colorcet](https://github.com/bokeh/colorcet) python package, listing all the ones available and allowing you to evaluate how perceptually uniform they are for you, your particular monitor, etc. Download and installation instructions are at the [github site](https://github.com/bokeh/colorcet). Note that this web page is also a [notebook](https://github.com/bokeh/colorcet/blob/master/docs/index.ipynb), if you want to recreate the results yourself.\n",
    "\n",
    "We will plot them using [matplotlib](http://matplotlib.org) via [holoviews](http://holoviews.org), but identical [bokeh](http://bokeh.pydata.org) palettes are also provided, and both Bokeh palettes and Matplotlib colormaps are usable in [datashader](https://github.com/bokeh/datashader).  Thus these colormaps can be used in any of those Python packages, as well as any other package that accepts a Python list of normalized RGB tuples or hex colors.  See \n",
    "[Peter's site](http://peterkovesi.com/projects/colourmaps/) to download versions for other non-Python packages.\n",
    "\n",
    "We first make some utilities for sorting and visualizing colormaps:\n",
    "<style>div.prompt {display:none}</style>"
   ]
  },
  {
   "cell_type": "code",
   "execution_count": null,
   "metadata": {
    "collapsed": false
   },
   "outputs": [],
   "source": [
    "import numpy as np\n",
    "import holoviews as hv\n",
    "import colorcet as cc\n",
    "\n",
    "hv.notebook_extension()\n",
    "\n",
    "import param\n",
    "with param.logging_level('CRITICAL'):\n",
    "    hv.plotting.mpl.LayoutPlot.v17_layout_format = True"
   ]
  },
  {
   "cell_type": "code",
   "execution_count": null,
   "metadata": {
    "collapsed": false
   },
   "outputs": [],
   "source": [
    "%opts Image [xaxis='bare' yaxis='bare' sublabel_format=None aspect=3 fontsize=13]\n",
    "\n",
    "# Collapse all colormap aliases into a single string, and then sort by it\n",
    "inverse = {}\n",
    "for k,v in cc.cm.items():\n",
    "    if not k[-2:] == \"_r\":\n",
    "        inverse[v] = inverse.get(v, [])\n",
    "        inverse[v].insert(0,k)\n",
    "all_cms = {',  '.join(reversed(v)):k for (k,v) in inverse.items()}.items()\n",
    "all_cms.sort()\n",
    "\n",
    "aliased_cms=[(k,v) for (k,v) in all_cms if \",\" in k]\n",
    "\n",
    "def lay_out_in_columns(_list, cols, spacer=None):\n",
    "    \"\"\"Given a list, reorder it into the number of columns specified, filling missing items with the given spacer.\"\"\"\n",
    "    rows = int(np.ceil(len(_list)*1.0/cols))\n",
    "    padded = _list + [spacer] * (rows*cols-len(_list))\n",
    "    return list(np.array(padded).reshape(cols,rows).T.flat)\n",
    "\n",
    "xs,ys = np.meshgrid(np.linspace(0,1,80), np.linspace(0,1,10))\n",
    "\n",
    "def colormaps(named_cms,cols=3,array=xs):\n",
    "    images = [hv.Image(array, group=name)(style=dict(cmap=cm)) \n",
    "              for name,cm in named_cms]\n",
    "    return hv.Layout(lay_out_in_columns(images,cols,hv.Empty())).display('all').cols(cols)"
   ]
  },
  {
   "cell_type": "markdown",
   "metadata": {},
   "source": [
    "## Named colormaps\n",
    "\n",
    "The full list of colormaps included will be shown below, but a useful subset of these maps that cover the various types have been given more convenient names, and we will focus on those first.  \n",
    "\n",
    "**For Matplotlib users**: After importing `colorcet`, all the colormaps shown here will be available by string name prefixed with `cet_`, along with reversed versions suffixed with `_r` (not shown below).  For instance, \"fire\" is available as \"cet_fire\" and \"cet_fire_r\" (as well as the more verbose names \"cet_linear_kryw_0_100_c71\" and \"cet_linear_kryw_0_100_c71_r\" as described below).  \n",
    "\n",
    "### Linear (sequential) colormaps, for plotting magnitudes:"
   ]
  },
  {
   "cell_type": "code",
   "execution_count": null,
   "metadata": {
    "collapsed": false
   },
   "outputs": [],
   "source": [
    "colormaps([i for i in aliased_cms if \"linear\" in i[0] and \"diverging\" not in i[0]])"
   ]
  },
  {
   "cell_type": "markdown",
   "metadata": {},
   "source": [
    "### Diverging colormaps, for plotting magnitudes increasing or decreasing from a central point:"
   ]
  },
  {
   "cell_type": "code",
   "execution_count": null,
   "metadata": {
    "collapsed": false
   },
   "outputs": [],
   "source": [
    "colormaps([i for i in aliased_cms if \"diverging\" in i[0]])"
   ]
  },
  {
   "cell_type": "markdown",
   "metadata": {},
   "source": [
    "### Misc colormaps:\n",
    "\n",
    "* cyclic: for cyclic quantities like orientation or phase (where the highest and lowest values need the same color)\n",
    "* isoluminant: to highlight low spatial-frequency information\n",
    "* rainbow: to highlight local differences in sequential data"
   ]
  },
  {
   "cell_type": "code",
   "execution_count": null,
   "metadata": {
    "collapsed": false
   },
   "outputs": [],
   "source": [
    "colormaps([i for i in aliased_cms if \"cyclic\" in i[0] or \"rainbow\" in i[0] or \"isoluminant\" in i[0]])"
   ]
  },
  {
   "cell_type": "markdown",
   "metadata": {},
   "source": [
    "## Full list of available colormaps\n",
    "\n",
    "This list includes all those above, plus other variants and alternatives.  Each colormap has a name in the form:\n",
    "\n",
    "*category*`_`*huesequence*`_`*lightnessrange*`_c`*meanchroma*`[_`s*colorshift*`_[`r*ifreversed*`]]`\n",
    "\n",
    "along with any shorter alias that may be defined above."
   ]
  },
  {
   "cell_type": "code",
   "execution_count": null,
   "metadata": {
    "collapsed": false
   },
   "outputs": [],
   "source": [
    "colormaps(all_cms, cols=4)"
   ]
  },
  {
   "cell_type": "markdown",
   "metadata": {},
   "source": [
    "## Testing perceptual uniformity\n",
    "\n",
    "Peter Kovesi created a test image with a sine grating modulation of intensity, where modulation gain decreases from top to bottom, which helps evaluate perceptual uniformity of a colormap at a glance.  The matplotlib maintainers use different definitions of perceptually uniform (uniformity in a different color space), but the new matplotlib perceptually uniform colormaps do well at Peter's test image:"
   ]
  },
  {
   "cell_type": "code",
   "execution_count": null,
   "metadata": {
    "collapsed": false
   },
   "outputs": [],
   "source": [
    "%output size=200\n",
    "%opts Image [xaxis='bare' yaxis='bare' sublabel_format=None aspect=4 fontsize=10]\n",
    "sine=np.load(\"colourmaptest.npy\")"
   ]
  },
  {
   "cell_type": "code",
   "execution_count": null,
   "metadata": {
    "collapsed": false
   },
   "outputs": [],
   "source": [
    "colormaps([[\"viridis\"]*2,[\"inferno\"]*2],cols=1,array=sine)"
   ]
  },
  {
   "cell_type": "markdown",
   "metadata": {},
   "source": [
    "Here the sine grating for a uniform colormap should be visible as a fine-toothed comb with teeth that gradually become less visible from top to bottom.  The further down the comb these teeth are visible, the higher the discriminability of magnitudes at that location in the colormap.  Thus a perceptually uniform colormap, like the two above, should have teeth that visible at the same length for all colors.  \n",
    "\n",
    "You can also use these images to evaluate the overall level of discriminability provided by a given colormap -- the longer the visible area of teeth, the better this colormap allows you to discriminate fine differences in magnitude.  Here the `inferno` map seems to have better discriminability than the `viridis` map, despite both being perceptually uniform.\n",
    "\n",
    "The default colormaps that have traditionally been used with Matlab, Matplotlib, and HoloViews are clearly not perceptually uniform --  all the green and yellow areas are nearly indistinguishable:"
   ]
  },
  {
   "cell_type": "code",
   "execution_count": null,
   "metadata": {
    "collapsed": false
   },
   "outputs": [],
   "source": [
    "colormaps([[\"hot\"]*2,[\"jet\"]*2],cols=1,array=sine)"
   ]
  },
  {
   "cell_type": "markdown",
   "metadata": {},
   "source": [
    "Thus those colormaps should be avoided if at all possible, to avoid generating misleading visualizations. Compare these two to the perceptually uniform versions provided by this package: "
   ]
  },
  {
   "cell_type": "code",
   "execution_count": null,
   "metadata": {
    "collapsed": false
   },
   "outputs": [],
   "source": [
    "colormaps([(\"fire\",cc.m_fire),(\"rainbow\",cc.m_rainbow)],cols=1,array=sine)"
   ]
  },
  {
   "cell_type": "markdown",
   "metadata": {},
   "source": [
    "We can see the results for all the `colorcet` colormaps below, which can be summarized as:\n",
    "\n",
    "* \"linear\" colormaps all work well by this criterion\n",
    "* \"diverging\" colormaps typically have discontinuities in perceptual discriminability around the central value\n",
    "* \"cyclic\" colormaps with repeating colors tend to have discontinuities at 1/4 and 3/4 of the way through the cycle, or at other locations if shifted.\n",
    "* \"isoluminant\" colormaps typically show no visible modulation, because without luminance cues humans can only discriminate low spatial-frequency modulations (i.e., much wider teeth would be needed for evaluating such colormaps)\n",
    "* Some of the \"rainbow\" colormaps seem to have a perceptual discontinuity around the color red, the reasons for which are not yet clear."
   ]
  },
  {
   "cell_type": "code",
   "execution_count": null,
   "metadata": {
    "collapsed": false
   },
   "outputs": [],
   "source": [
    "colormaps(all_cms,cols=1,array=sine)"
   ]
  }
 ],
 "metadata": {
  "kernelspec": {
   "display_name": "Python 2",
   "language": "python",
   "name": "python2"
  },
  "language_info": {
   "codemirror_mode": {
    "name": "ipython",
    "version": 2
   },
   "file_extension": ".py",
   "mimetype": "text/x-python",
   "name": "python",
   "nbconvert_exporter": "python",
   "pygments_lexer": "ipython2",
   "version": "2.7.11"
  }
 },
 "nbformat": 4,
 "nbformat_minor": 0
}
